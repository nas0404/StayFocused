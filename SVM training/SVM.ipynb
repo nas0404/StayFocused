{
 "cells": [
  {
   "cell_type": "code",
   "execution_count": 3,
   "id": "561906e1",
   "metadata": {},
   "outputs": [],
   "source": [
    "import pandas as pd\n",
    "import numpy as np"
   ]
  },
  {
   "cell_type": "code",
   "execution_count": 6,
   "id": "a8524233",
   "metadata": {},
   "outputs": [],
   "source": [
    "# You are passing a string (filename) to pd.DataFrame, which is incorrect.\n",
    "# Use pd.read_csv to load CSV files as DataFrames.\n",
    "\n",
    "logits1 = pd.read_csv(\"logits.csv\")\n",
    "coordinates1 = pd.read_csv(\"coordinates.csv\")\n",
    "\n",
    "logits2 = pd.read_csv(\"logitsN.csv\")\n",
    "coordinates2 = pd.read_csv(\"coordinatesN.csv\")\n",
    "\n",
    "logits3 = pd.read_csv(\"logitsRama.csv\")\n",
    "coordinates3 = pd.read_csv(\"coordinatesRama.csv\")\n",
    "\n",
    "# Concatenate all logits and coordinates into single DataFrames\n",
    "logits = pd.concat([logits1, logits2, logits3], ignore_index=True)\n",
    "coordinates = pd.concat([coordinates1, coordinates2, coordinates3], ignore_index=True)"
   ]
  },
  {
   "cell_type": "code",
   "execution_count": 10,
   "id": "5c7313d1",
   "metadata": {},
   "outputs": [
    {
     "name": "stdout",
     "output_type": "stream",
     "text": [
      "Train shape: (929, 33)\n",
      "Val shape: (310, 33)\n",
      "Test shape: (310, 33)\n"
     ]
    }
   ],
   "source": [
    "# Drop the 'unique_id' column\n",
    "logits_noid = logits.drop(columns=['unique_id'])\n",
    "coordinates_noid = coordinates.drop(columns=['unique_id'])\n",
    "\n",
    "# Convert to numpy arrays\n",
    "logits_np = logits_noid.drop(columns=['label']).to_numpy()\n",
    "coordinates_np = coordinates_noid.drop(columns=['label']).to_numpy()\n",
    "labels = logits_noid['label'].to_numpy()  # Assuming labels are the same for both\n",
    "\n",
    "# Train/val/test split using sklearn\n",
    "from sklearn.model_selection import train_test_split\n",
    "\n",
    "# First split into train+val and test\n",
    "X_temp, X_test, y_temp, y_test = train_test_split(logits_np, labels, test_size=0.2, random_state=42, stratify=labels)\n",
    "# Then split train+val into train and val\n",
    "X_train, X_val, y_train, y_val = train_test_split(X_temp, y_temp, test_size=0.25, random_state=42, stratify=y_temp)\n",
    "\n",
    "print(\"Train shape:\", X_train.shape)\n",
    "print(\"Val shape:\", X_val.shape)\n",
    "print(\"Test shape:\", X_test.shape)"
   ]
  },
  {
   "cell_type": "code",
   "execution_count": 11,
   "id": "37fe4366",
   "metadata": {},
   "outputs": [
    {
     "name": "stdout",
     "output_type": "stream",
     "text": [
      "Coordinates Train shape: (929, 99)\n",
      "Coordinates Val shape: (310, 99)\n",
      "Coordinates Test shape: (310, 99)\n"
     ]
    }
   ],
   "source": [
    "# Repeat the same split for coordinates if needed\n",
    "Xc_temp, Xc_test, yc_temp, yc_test = train_test_split(coordinates_np, labels, test_size=0.2, random_state=42, stratify=labels)\n",
    "Xc_train, Xc_val, yc_train, yc_val = train_test_split(Xc_temp, yc_temp, test_size=0.25, random_state=42, stratify=yc_temp)\n",
    "\n",
    "print(\"Coordinates Train shape:\", Xc_train.shape)\n",
    "print(\"Coordinates Val shape:\", Xc_val.shape)\n",
    "print(\"Coordinates Test shape:\", Xc_test.shape)"
   ]
  },
  {
   "cell_type": "code",
   "execution_count": 21,
   "id": "1cb7365a",
   "metadata": {},
   "outputs": [
    {
     "name": "stdout",
     "output_type": "stream",
     "text": [
      "0.9483315392895587\n",
      "Validation accuracy: 0.8806\n",
      "Test accuracy: 0.9516\n"
     ]
    }
   ],
   "source": [
    "from sklearn.preprocessing import StandardScaler\n",
    "from sklearn.svm import SVC\n",
    "\n",
    "# Normalize (standardize) the features\n",
    "scaler = StandardScaler()\n",
    "X_train_norm = scaler.fit_transform(X_train)\n",
    "X_val_norm = scaler.transform(X_val)\n",
    "X_test_norm = scaler.transform(X_test)\n",
    "\n",
    "# Train SVM with RBF kernel and C=100\n",
    "svm = SVC(kernel='rbf', C=500, gamma=\"scale\")\n",
    "svm.fit(X_train_norm, y_train)\n",
    "\n",
    "# Evaluate on validation and test sets\n",
    "train_score = svm.score(X_train_norm, y_train)\n",
    "val_score = svm.score(X_val_norm, y_val)\n",
    "test_score = svm.score(X_test_norm, y_test)\n",
    "\n",
    "\n",
    "print(train_score)\n",
    "\n",
    "print(f\"Validation accuracy: {val_score:.4f}\")\n",
    "print(f\"Test accuracy: {test_score:.4f}\")"
   ]
  },
  {
   "cell_type": "code",
   "execution_count": null,
   "id": "0381aa64",
   "metadata": {},
   "outputs": [
    {
     "name": "stdout",
     "output_type": "stream",
     "text": [
      "Best parameters: {'C': 1550, 'gamma': 0.04399999999999998}\n",
      "Best CV accuracy: 0.9418763266868497\n",
      "Validation accuracy (best params): 0.9226\n",
      "Test accuracy (best params): 0.9516\n"
     ]
    }
   ],
   "source": [
    "from sklearn.model_selection import GridSearchCV\n",
    "import numpy as np\n",
    "\n",
    "\n",
    "# Define parameter grid for C and gamma (gamma from 0.01 to 0.1 in 0.001 increments)\n",
    "param_grid = {\n",
    "    'C': list(range(50, 3001, 50)),\n",
    "    'gamma': np.arange(0.01, 0.101, 0.001)\n",
    "}\n",
    "\n",
    "svm = SVC(kernel='rbf')\n",
    "grid = GridSearchCV(svm, param_grid, cv=3, scoring='accuracy', n_jobs=-1)\n",
    "grid.fit(X_train_norm, y_train)\n",
    "\n",
    "print(\"Best parameters:\", grid.best_params_)\n",
    "print(\"Best CV accuracy:\", grid.best_score_)\n",
    "\n",
    "\n",
    "# Evaluate on validation and test sets using the best estimator\n",
    "val_score = grid.best_estimator_.score(X_val_norm, y_val)\n",
    "test_score = grid.best_estimator_.score(X_test_norm, y_test)\n",
    "print(f\"Validation accuracy (best params): {val_score:.4f}\")\n",
    "print(f\"Test accuracy (best params): {test_score:.4f}\")"
   ]
  },
  {
   "cell_type": "code",
   "execution_count": null,
   "id": "bd9e08c8",
   "metadata": {},
   "outputs": [
    {
     "name": "stdout",
     "output_type": "stream",
     "text": [
      "Best SVM model saved to svm_best_model.pkl\n"
     ]
    }
   ],
   "source": [
    "import pickle\n",
    "# Save the best SVM model from grid search using pickle\n",
    "with open(\"svm_best_model.pkl\", \"wb\") as f:\n",
    "    pickle.dump(grid.best_estimator_, f)\n",
    "print(\"Best SVM model saved to svm_best_model.pkl\")"
   ]
  }
 ],
 "metadata": {
  "kernelspec": {
   "display_name": "stayfocused",
   "language": "python",
   "name": "python3"
  },
  "language_info": {
   "codemirror_mode": {
    "name": "ipython",
    "version": 3
   },
   "file_extension": ".py",
   "mimetype": "text/x-python",
   "name": "python",
   "nbconvert_exporter": "python",
   "pygments_lexer": "ipython3",
   "version": "3.8.20"
  }
 },
 "nbformat": 4,
 "nbformat_minor": 5
}
